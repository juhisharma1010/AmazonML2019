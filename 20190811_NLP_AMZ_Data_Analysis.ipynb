{
 "cells": [
  {
   "cell_type": "code",
   "execution_count": 1,
   "metadata": {},
   "outputs": [],
   "source": [
    "import logging\n",
    "import pandas as pd\n",
    "import numpy as n\n",
    "from numpy import random\n",
    "import gensim\n",
    "import nltk\n",
    "from sklearn.model_selection import train_test_split\n",
    "from sklearn.feature_extraction.text import CountVectorizer, TfidfVectorizer\n",
    "from sklearn.metrics import accuracy_score, confusion_matrix\n",
    "import matplotlib.pyplot as plt\n",
    "from nltk.corpus import stopwords\n",
    "from nltk.stem import WordNetLemmatizer\n",
    "import re\n",
    "\n",
    "\n",
    "df = pd.read_csv('train.csv')\n"
   ]
  },
  {
   "cell_type": "code",
   "execution_count": 5,
   "metadata": {},
   "outputs": [
    {
     "name": "stdout",
     "output_type": "stream",
     "text": [
      "ALL Classes for Topic:\n",
      "['Shipment and delivery' 'Not Effective' 'Customer Service' 'Allergic'\n",
      " 'Texture' 'Quality/Contaminated' 'Color and texture' 'Bad Taste/Flavor'\n",
      " 'Too big to swallow' 'Smells Bad' 'Too Sweet' 'Ingredients' 'Expiry'\n",
      " 'Packaging' 'Wrong Product received' 'Pricing' 'False Advertisement'\n",
      " 'Inferior to competitors' \"Didn't Like\" 'Customer Issues' 'Hard to Chew']\n",
      "topic\n",
      "Allergic                    567\n",
      "Bad Taste/Flavor           1194\n",
      "Color and texture           234\n",
      "Customer Issues               8\n",
      "Customer Service            239\n",
      "Didn't Like                  31\n",
      "Expiry                      136\n",
      "False Advertisement          37\n",
      "Hard to Chew                  6\n",
      "Inferior to competitors      44\n",
      "Ingredients                 216\n",
      "Not Effective               611\n",
      "Packaging                   467\n",
      "Pricing                     107\n",
      "Quality/Contaminated        715\n",
      "Shipment and delivery       390\n",
      "Smells Bad                  123\n",
      "Texture                     410\n",
      "Too Sweet                    97\n",
      "Too big to swallow          228\n",
      "Wrong Product received       99\n",
      "dtype: int64\n"
     ]
    },
    {
     "ename": "TypeError",
     "evalue": "show() got an unexpected keyword argument 'rotation'",
     "output_type": "error",
     "traceback": [
      "\u001b[1;31m---------------------------------------------------------------------------\u001b[0m",
      "\u001b[1;31mTypeError\u001b[0m                                 Traceback (most recent call last)",
      "\u001b[1;32m<ipython-input-5-cb364fcc828c>\u001b[0m in \u001b[0;36m<module>\u001b[1;34m\u001b[0m\n\u001b[0;32m     10\u001b[0m \u001b[1;32mimport\u001b[0m \u001b[0mseaborn\u001b[0m \u001b[1;32mas\u001b[0m \u001b[0msns\u001b[0m\u001b[1;33m\u001b[0m\u001b[1;33m\u001b[0m\u001b[0m\n\u001b[0;32m     11\u001b[0m \u001b[0msns\u001b[0m\u001b[1;33m.\u001b[0m\u001b[0mcountplot\u001b[0m\u001b[1;33m(\u001b[0m\u001b[0mdf\u001b[0m\u001b[1;33m[\u001b[0m\u001b[1;34m'topic'\u001b[0m\u001b[1;33m]\u001b[0m\u001b[1;33m,\u001b[0m\u001b[0mlabel\u001b[0m\u001b[1;33m=\u001b[0m\u001b[1;34m\"Count\"\u001b[0m\u001b[1;33m)\u001b[0m\u001b[1;33m\u001b[0m\u001b[1;33m\u001b[0m\u001b[0m\n\u001b[1;32m---> 12\u001b[1;33m \u001b[0mplt\u001b[0m\u001b[1;33m.\u001b[0m\u001b[0mshow\u001b[0m\u001b[1;33m(\u001b[0m\u001b[0mrotation\u001b[0m \u001b[1;33m=\u001b[0m \u001b[1;36m90\u001b[0m\u001b[1;33m)\u001b[0m\u001b[1;33m\u001b[0m\u001b[1;33m\u001b[0m\u001b[0m\n\u001b[0m",
      "\u001b[1;32m~\\anaconda3\\lib\\site-packages\\matplotlib\\pyplot.py\u001b[0m in \u001b[0;36mshow\u001b[1;34m(*args, **kw)\u001b[0m\n\u001b[0;32m    270\u001b[0m     \"\"\"\n\u001b[0;32m    271\u001b[0m     \u001b[1;32mglobal\u001b[0m \u001b[0m_show\u001b[0m\u001b[1;33m\u001b[0m\u001b[1;33m\u001b[0m\u001b[0m\n\u001b[1;32m--> 272\u001b[1;33m     \u001b[1;32mreturn\u001b[0m \u001b[0m_show\u001b[0m\u001b[1;33m(\u001b[0m\u001b[1;33m*\u001b[0m\u001b[0margs\u001b[0m\u001b[1;33m,\u001b[0m \u001b[1;33m**\u001b[0m\u001b[0mkw\u001b[0m\u001b[1;33m)\u001b[0m\u001b[1;33m\u001b[0m\u001b[1;33m\u001b[0m\u001b[0m\n\u001b[0m\u001b[0;32m    273\u001b[0m \u001b[1;33m\u001b[0m\u001b[0m\n\u001b[0;32m    274\u001b[0m \u001b[1;33m\u001b[0m\u001b[0m\n",
      "\u001b[1;31mTypeError\u001b[0m: show() got an unexpected keyword argument 'rotation'"
     ]
    },
    {
     "data": {
      "image/png": "[encoded data removed]",
      "text/plain": [
       "<Figure size 432x288 with 1 Axes>"
      ]
     },
     "metadata": {
      "needs_background": "light"
     },
     "output_type": "display_data"
    }
   ],
   "source": [
    "# Get the Total No of Different Topics\n",
    "\n",
    "print('ALL Classes for Topic:')\n",
    "print(df.topic.unique())\n",
    "\n",
    "#Get Topic wise distribution\n",
    "\n",
    "print(df.groupby('topic').size())\n",
    "\n",
    "import seaborn as sns\n",
    "sns.countplot(df['topic'],label=\"Count\")\n",
    "plt.show()"
   ]
  },
  {
   "cell_type": "code",
   "execution_count": null,
   "metadata": {},
   "outputs": [],
   "source": [
    "''' Handle the Duplicate review texts across various topics and for the same Review Text and Review Title combination \n",
    "take the topic with least no of Texts.'''\n",
    "\n",
    "'''\n",
    "df_class_count = df.groupby(['topic'], as_index= False).agg({'Review Text':'count'})\n",
    "\n",
    "df_class_count = df_class_count.rename(columns = {'Review Text':'NoOfReviews'})\n",
    "df_class_count = df_class_count.sort_values(by = ['NoOfReviews'])\n",
    "\n",
    "\n",
    "#print(df.columns)\n",
    "#print(df_class_count.columns)\n",
    "\n",
    "df2 = df.merge(df_class_count, on = ['topic'], how = 'left')\n",
    "df2 = df2.sort_values(by = ['NoOfReviews'])\n",
    "\n",
    "#print(df.head())\n",
    "\n",
    "df2 = df2.drop_duplicates(['Review Text'])\n",
    "'''"
   ]
  },
  {
   "cell_type": "code",
   "execution_count": null,
   "metadata": {},
   "outputs": [],
   "source": [
    "# Removing the rows with duplicate Review Text\n",
    "\n",
    "def fun(x):\n",
    "    return len(set(list(x)))\n",
    "\n",
    "df_rev_count = df.groupby(['Review Text'], as_index= False).agg({'topic':fun})\n",
    "\n",
    "len(df_rev_count)\n",
    "#print(df_rev_count.head())\n",
    "\n",
    "df_rev_count = df_rev_count.rename(columns = {'topic':'NoOfTopics'})\n",
    "\n",
    "\n",
    "dfx = df.merge(df_rev_count, on = ['Review Text'], how = 'left')\n",
    "dfx = dfx[dfx['NoOfTopics'] == 1]\n",
    "\n",
    "print(dfx.head())\n",
    "len(df_rev_count)\n",
    "\n",
    "df = dfx.copy()\n"
   ]
  },
  {
   "cell_type": "code",
   "execution_count": null,
   "metadata": {},
   "outputs": [],
   "source": [
    "#Result after Removing messages having duplicate rows\n",
    "\n",
    "#Get Topic wise distribution\n",
    "print('ALL Classes for Topic:')\n",
    "print(df.topic.unique())\n",
    "print(len(df.topic.unique()))\n",
    "\n",
    "print(df.groupby('topic').size())\n",
    "\n",
    "import seaborn as sns\n",
    "sns.countplot(df['topic'],label=\"Count\")\n",
    "plt.show()"
   ]
  },
  {
   "cell_type": "code",
   "execution_count": null,
   "metadata": {},
   "outputs": [],
   "source": [
    "df['post'] = df['Review Title'] + ' ' + df['Review Text']\n",
    "df['post'].apply(lambda x: len(x.split(' '))).sum()\n",
    "\n",
    "#Data Cleaning\n",
    "lemmatizer = WordNetLemmatizer()\n",
    "REPLACE_BY_SPACE_RE = re.compile('[/(){}\\[\\]\\|@,;]')\n",
    "BAD_SYMBOLS_RE = re.compile('[^0-9a-z #+_]')\n",
    "STOPWORDS = set(stopwords.words('english'))\n",
    "\n",
    "def clean_text(text):\n",
    "    \"\"\"\n",
    "        text: a string\n",
    "        \n",
    "        return: modified initial string\n",
    "    \"\"\"\n",
    "    text = text.lower() # lowercase text\n",
    "    text = REPLACE_BY_SPACE_RE.sub(' ', text) # replace REPLACE_BY_SPACE_RE symbols by space in text\n",
    "    text = BAD_SYMBOLS_RE.sub('', text) # delete symbols which are in BAD_SYMBOLS_RE from text\n",
    "    text = ' '.join(word for word in text.split() if word not in STOPWORDS) # delete stopwors from text\n",
    "    text = ' '.join([w for w in text.split() if len(w)>2])\n",
    "    #text = ' '.join([lemmatizer.lemmatize(w) for w in text.split()])\n",
    "    return text\n",
    "\n",
    "def clean_text2(text):\n",
    "    \"\"\"\n",
    "        text: a string\n",
    "        \n",
    "        return: modified initial string\n",
    "    \"\"\"\n",
    "    text = text.lower() # lowercase text\n",
    "    text = REPLACE_BY_SPACE_RE.sub(' ', text) # replace REPLACE_BY_SPACE_RE symbols by space in text\n",
    "    #text = BAD_SYMBOLS_RE.sub('', text) # delete symbols which are in BAD_SYMBOLS_RE from text\n",
    "    #text = ' '.join(word for word in text.split() if word not in STOPWORDS) # delete stopwors from text\n",
    "    text = ' '.join([w for w in text.split() if len(w)>2])\n",
    "    #text = ' '.join([lemmatizer.lemmatize(w) for w in text.split()])\n",
    "    return text\n",
    "    \n",
    "\n",
    "df['Review Text'] = df['Review Text'].apply(clean_text)\n",
    "df['Review Title'] = df['Review Title'].apply(clean_text2)\n",
    "#print(df.head(10))\n",
    "\n",
    "df['post'] = df['Review Title'] + ' ' + df['Review Text']\n",
    "df = df.rename(columns={'topic':'tags'})\n",
    "\n",
    "df['post'].apply(lambda x: len(x.split(' '))).sum()"
   ]
  },
  {
   "cell_type": "code",
   "execution_count": null,
   "metadata": {},
   "outputs": [],
   "source": [
    "\n",
    "X_train = pd.Series()\n",
    "y_train = pd.Series()\n",
    "X_test = pd.Series()\n",
    "y_test = pd.Series()\n",
    "\n",
    "all_class = df.tags.unique().tolist()\n",
    "\n",
    "for cls in all_class:\n",
    "    X_tmp = df[df['tags']==str(cls)]['post']\n",
    "    y_tmp = df[df['tags']==str(cls)]['tags']\n",
    "    #print(len(X_tmp))\n",
    "    #print(len(y_tmp))\n",
    "    train_X, test_X, train_Y, test_Y = train_test_split(X_tmp, y_tmp, test_size=0.2, random_state = 42)\n",
    "    X_train = X_train.append(train_X)\n",
    "    X_test = X_test.append(test_X)\n",
    "    y_train = y_train.append(train_Y)\n",
    "    y_test = y_test.append(test_Y)\n",
    "    \n",
    "#print(len(X_train))\n",
    "#print(type(X_train))\n"
   ]
  },
  {
   "cell_type": "code",
   "execution_count": null,
   "metadata": {},
   "outputs": [],
   "source": [
    "print(X_train.head())\n",
    "#print(len(X_test))\n",
    "#print(len(y_train))\n",
    "#print(len(y_test))\n"
   ]
  },
  {
   "cell_type": "code",
   "execution_count": null,
   "metadata": {},
   "outputs": [],
   "source": [
    "from sklearn.naive_bayes import MultinomialNB\n",
    "from sklearn.pipeline import Pipeline\n",
    "from sklearn.feature_extraction.text import TfidfTransformer\n",
    "\n",
    "nb = Pipeline([('vect', CountVectorizer()),\n",
    "               ('tfidf', TfidfTransformer()),\n",
    "               ('clf', MultinomialNB()),\n",
    "              ])\n",
    "nb.fit(X_train, y_train)\n",
    "\n",
    "from sklearn.metrics import classification_report\n",
    "y_pred = nb.predict(X_test)\n",
    "\n",
    "my_tags = df['tags'].unique().tolist()\n",
    "\n",
    "print('accuracy %s', accuracy_score(y_pred, y_test))\n",
    "print(classification_report(y_test, y_pred,target_names=my_tags))"
   ]
  },
  {
   "cell_type": "code",
   "execution_count": null,
   "metadata": {},
   "outputs": [],
   "source": [
    "from sklearn.linear_model import SGDClassifier\n",
    "\n",
    "sgd = Pipeline([('vect', CountVectorizer()),\n",
    "                ('tfidf', TfidfTransformer()),\n",
    "                ('clf', SGDClassifier(loss='hinge', penalty='l2',alpha=1e-3, random_state=42, max_iter=3, tol=None)),\n",
    "               ])\n",
    "sgd.fit(X_train, y_train)\n",
    "\n",
    "\n",
    "y_pred = sgd.predict(X_test)\n",
    "\n",
    "print('accuracy %s' % accuracy_score(y_pred, y_test))\n",
    "print(classification_report(y_test, y_pred,target_names=my_tags))"
   ]
  },
  {
   "cell_type": "code",
   "execution_count": null,
   "metadata": {},
   "outputs": [],
   "source": []
  },
  {
   "cell_type": "code",
   "execution_count": null,
   "metadata": {},
   "outputs": [],
   "source": [
    "from sklearn.linear_model import LogisticRegression\n",
    "\n",
    "logreg = Pipeline([('vect', CountVectorizer()),\n",
    "                ('tfidf', TfidfTransformer()),\n",
    "                ('clf', LogisticRegression(n_jobs=1, C=1e5)),\n",
    "               ])\n",
    "logreg.fit(X_train, y_train)\n",
    "\n",
    "y_pred = logreg.predict(X_test)\n",
    "\n",
    "print('accuracy %s' % accuracy_score(y_pred, y_test))\n",
    "print(classification_report(y_test, y_pred,target_names=my_tags))"
   ]
  },
  {
   "cell_type": "code",
   "execution_count": null,
   "metadata": {},
   "outputs": [],
   "source": [
    "import xgboost\n",
    "from sklearn.pipeline import Pipeline\n",
    "from sklearn.feature_extraction.text import TfidfTransformer\n",
    "\n",
    "xboost = Pipeline([('vect', CountVectorizer()),\n",
    "                ('tfidf', TfidfTransformer()),\n",
    "                ('clf', xgboost.XGBClassifier()),\n",
    "               ])\n",
    "xboost.fit(X_train, y_train)\n",
    "\n",
    "\n",
    "y_pred = xboost.predict(X_test)\n",
    "\n",
    "print('accuracy %s' % accuracy_score(y_pred, y_test))\n",
    "print(classification_report(y_test, y_pred,target_names=my_tags))"
   ]
  },
  {
   "cell_type": "code",
   "execution_count": null,
   "metadata": {},
   "outputs": [],
   "source": [
    "\n",
    "\n",
    "import xgboost\n",
    "\n",
    "'''xboost = Pipeline([('vect', CountVectorizer()),\n",
    "                ('tfidf', TfidfTransformer()),\n",
    "                ('clf', xgboost.XGBClassifier(learning_rate =0.2, n_estimators=1000, max_depth=6, min_child_weight=1, gamma=0, subsample=0.8, colsample_bytree=0.8, objective= 'multi:softmax',num_class = 21, nthread=4, scale_pos_weight=1, seed=27)),\n",
    "               ])'''\n",
    "\n",
    "xboost2 = Pipeline([('vect', CountVectorizer()),\n",
    "                ('tfidf', TfidfTransformer()),\n",
    "                ('clf', xgboost.XGBClassifier(learning_rate =0.1,n_estimators=1000,max_depth=5,min_child_weight=1,gamma=0,subsample=0.8,colsample_bytree=0.8,objective= 'binary:logistic', nthread=4, scale_pos_weight=1, seed=27)),\n",
    "               ])\n",
    "\n",
    "xboost2.fit(X_train, y_train)\n",
    "\n",
    "y_pred = xboost2.predict(X_test)\n",
    "\n",
    "print('accuracy %s' % accuracy_score(y_pred, y_test))\n",
    "print(classification_report(y_test, y_pred,target_names=my_tags))\n",
    "\n"
   ]
  },
  {
   "cell_type": "code",
   "execution_count": null,
   "metadata": {},
   "outputs": [],
   "source": [
    "from sklearn.multiclass import OneVsRestClassifier\n",
    "\n",
    "import xgboost\n",
    "\n",
    "xboost3 = Pipeline([('vect', CountVectorizer()),\n",
    "                ('tfidf', TfidfTransformer()),\n",
    "                ('clf', OneVsRestClassifier(xgboost.XGBClassifier())),\n",
    "               ])\n",
    "xboost3.fit(X_train, y_train)\n",
    "\n",
    "y_pred = xboost3.predict(X_test)\n",
    "\n",
    "print('accuracy %s' % accuracy_score(y_pred, y_test))\n",
    "print(classification_report(y_test, y_pred,target_names=my_tags))\n"
   ]
  },
  {
   "cell_type": "code",
   "execution_count": null,
   "metadata": {},
   "outputs": [],
   "source": [
    "test_data = pd.read_csv('test.csv')\n",
    "\n",
    "test_data['Review Text'] = test_data['Review Text'].apply(clean_text)\n",
    "#print(df.head(10))\n",
    "\n",
    "X_test_fin = test_data['Review Title'] + ' ' + test_data['Review Text']\n",
    "\n",
    "X_train = df['post']\n",
    "y_train = df['tags']\n"
   ]
  },
  {
   "cell_type": "code",
   "execution_count": null,
   "metadata": {},
   "outputs": [],
   "source": [
    "len(X_train)"
   ]
  },
  {
   "cell_type": "code",
   "execution_count": null,
   "metadata": {},
   "outputs": [],
   "source": [
    "#Final Run for Final Output for xgboost\n",
    "\n",
    "import xgboost\n",
    "from sklearn.pipeline import Pipeline\n",
    "from sklearn.feature_extraction.text import TfidfTransformer\n",
    "\n",
    "xboost = Pipeline([('vect', CountVectorizer()),\n",
    "                ('tfidf', TfidfTransformer()),\n",
    "                ('clf', xgboost.XGBClassifier()),\n",
    "               ])\n",
    "xboost.fit(X_train, y_train)\n",
    "\n",
    "y_pred_final = xboost.predict(X_test_fin)\n",
    "df_res = pd.DataFrame({'y_p':y_pred_final})\n",
    "\n",
    "df_res.to_csv('Res_joined_xboost_new.csv',index=False)"
   ]
  },
  {
   "cell_type": "code",
   "execution_count": null,
   "metadata": {},
   "outputs": [],
   "source": [
    "#Final Run for Final Output for Linear Model\n",
    "\n",
    "from sklearn.linear_model import SGDClassifier\n",
    "\n",
    "sgd = Pipeline([('vect', CountVectorizer()),\n",
    "                ('tfidf', TfidfTransformer()),\n",
    "                ('clf', SGDClassifier(loss='hinge', penalty='l2',alpha=1e-3, random_state=42, max_iter=3, tol=None)),\n",
    "               ])\n",
    "sgd.fit(X_train, y_train)\n",
    "\n",
    "y_pred_final = sgd.predict(X_test_fin)\n",
    "df_res = pd.DataFrame({'y_p':y_pred_final})\n",
    "\n",
    "df_res.to_csv('Res_joined_linear_n.csv',index=False)"
   ]
  },
  {
   "cell_type": "code",
   "execution_count": null,
   "metadata": {},
   "outputs": [],
   "source": [
    "#Final Run for Final Output for Logistic Model\n",
    "\n",
    "from sklearn.linear_model import LogisticRegression\n",
    "\n",
    "logreg = Pipeline([('vect', CountVectorizer()),\n",
    "                ('tfidf', TfidfTransformer()),\n",
    "                ('clf', LogisticRegression(n_jobs=1, C=1e5)),\n",
    "               ])\n",
    "\n",
    "logreg.fit(X_train, y_train)\n",
    "\n",
    "y_pred_final = logreg.predict(X_test_fin)\n",
    "df_res = pd.DataFrame({'y_p':y_pred_final})\n",
    "\n",
    "df_res.to_csv('Res_joined_logistic.csv',index=False)"
   ]
  },
  {
   "cell_type": "code",
   "execution_count": null,
   "metadata": {},
   "outputs": [],
   "source": [
    "#Final Run for Final Output for xgboost with OneVsRestClassifier\n",
    "\n",
    "from sklearn.multiclass import OneVsRestClassifier\n",
    "\n",
    "import xgboost\n",
    "\n",
    "xboost3 = Pipeline([('vect', CountVectorizer()),\n",
    "                ('tfidf', TfidfTransformer()),\n",
    "                ('clf', OneVsRestClassifier(xgboost.XGBClassifier())),\n",
    "               ])\n",
    "xboost3.fit(X_train, y_train)\n",
    "\n",
    "\n",
    "y_pred_final = xboost3.predict(X_test_fin)\n",
    "df_res = pd.DataFrame({'y_p':y_pred_final})\n",
    "\n",
    "df_res.to_csv('Res_joined_xboost_with_ORC.csv',index=False)"
   ]
  },
  {
   "cell_type": "code",
   "execution_count": null,
   "metadata": {},
   "outputs": [],
   "source": []
  }
 ],
 "metadata": {
  "kernelspec": {
   "display_name": "Python 3",
   "language": "python",
   "name": "python3"
  },
  "language_info": {
   "codemirror_mode": {
    "name": "ipython",
    "version": 3
   },
   "file_extension": ".py",
   "mimetype": "text/x-python",
   "name": "python",
   "nbconvert_exporter": "python",
   "pygments_lexer": "ipython3",
   "version": "3.7.9"
  }
 },
 "nbformat": 4,
 "nbformat_minor": 2
}
